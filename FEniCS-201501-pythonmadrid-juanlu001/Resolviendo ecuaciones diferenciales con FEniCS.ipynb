{
 "metadata": {
  "celltoolbar": "Slideshow",
  "name": "",
  "signature": "sha256:e5043f54be8c34384aceabb881da7cce3583be208f6404cb65b0cd28d43ae1f8"
 },
 "nbformat": 3,
 "nbformat_minor": 0,
 "worksheets": [
  {
   "cells": [
    {
     "cell_type": "markdown",
     "metadata": {
      "slideshow": {
       "slide_type": "slide"
      }
     },
     "source": [
      "# Resolviendo ecuaciones diferenciales con FEniCS\n",
      "\n",
      "![](./header.png)\n",
      "\n",
      "<h3>Juan Luis Cano Rodr\u00edguez <juanlu@pybonacci.org> <br />\n",
      "Python Madrid, 2015-01-28</h3>"
     ]
    },
    {
     "cell_type": "markdown",
     "metadata": {
      "slideshow": {
       "slide_type": "slide"
      }
     },
     "source": [
      "# \u00cdndice\n",
      "\n",
      "1. Introducci\u00f3n\n",
      "2. Arquitectura\n",
      "3. Instalaci\u00f3n\n",
      "4. Ejemplo b\u00e1sico\n",
      "5. Problemas m\u00e1s complejos\n",
      "6. Recursos y alternativas\n",
      "7. Conclusiones\n",
      "8. Q & A"
     ]
    },
    {
     "cell_type": "markdown",
     "metadata": {
      "slideshow": {
       "slide_type": "slide"
      }
     },
     "source": [
      "# 1. Introducci\u00f3n"
     ]
    },
    {
     "cell_type": "markdown",
     "metadata": {
      "slideshow": {
       "slide_type": "subslide"
      }
     },
     "source": [
      "## \u00bfQu\u00e9 es FEniCS?\n",
      "\n",
      "* FEniCS es una colecci\u00f3n de bibliotecas libres para la **soluci\u00f3n de ecuaciones diferenciales por el m\u00e9todo de los elementos finitos**\n",
      "\n",
      "![FEniCS](fenics_banner.png)\n",
      "\n",
      "* La ecuaci\u00f3n se especifica en forma variacional utilizando un lenguaje simb\u00f3lico\n",
      "* FEniCS automatiza la discretizaci\u00f3n de la ecuaci\u00f3n diferencial\n",
      "* Para la resoluci\u00f3n del sistema utiliza *solvers* establecidos como UMFPACK o PETSc\n",
      "* Enfoque muy matem\u00e1tico: artesanal y potente"
     ]
    },
    {
     "cell_type": "markdown",
     "metadata": {
      "slideshow": {
       "slide_type": "subslide"
      }
     },
     "source": [
      "## M\u00e9todo de los elementos finitos\n",
      "\n",
      "* M\u00e9todo num\u00e9rico para la **aproximaci\u00f3n de ecuaciones diferenciales**\n",
      "* Se particiona el espacio en subdominios llamados **elementos**, y en ellos se aproximan las ecuaciones\n",
      "\n",
      "![FEM](fem.png)"
     ]
    },
    {
     "cell_type": "markdown",
     "metadata": {
      "slideshow": {
       "slide_type": "slide"
      }
     },
     "source": [
      "# 2. Arquitectura\n",
      "\n",
      "* DOLFIN 0.2.0 en 2002: inicialmente una sola biblioteca en C++\n",
      "* En 2003 nace el proyecto FEniCS y se empieza a diversificar\n",
      "* Se van introduciendo componentes, *algunos se retiran*\n",
      "* Se libera FEniCS 1.0 en diciembre de 2011\n",
      "* **FEniCS 1.5 el 12 de enero de 2015**"
     ]
    },
    {
     "cell_type": "markdown",
     "metadata": {
      "slideshow": {
       "slide_type": "subslide"
      }
     },
     "source": [
      "## Componentes\n",
      "\n",
      "![Proyecto FEniCS](fenics_project_updated.png)"
     ]
    },
    {
     "cell_type": "markdown",
     "metadata": {
      "slideshow": {
       "slide_type": "subslide"
      }
     },
     "source": [
      "## Unified Form Language\n",
      "\n",
      "![UFL-FFC-UFC](ufl-ffc-ufc.png)"
     ]
    },
    {
     "cell_type": "markdown",
     "metadata": {
      "slideshow": {
       "slide_type": "fragment"
      }
     },
     "source": [
      "* En FEniCS, las formas variacionales se expresan mediante un **lenguaje simb\u00f3lico**\n",
      "* **UFL** (Unified Form Language) es este lenguaje\n",
      "* Se pretende compilar esas formas para que se eval\u00faen m\u00e1s r\u00e1pido\n",
      "* **UFC** (Unified Form Compiler) es el c\u00f3digo C++ generado\n",
      "* **FFC** (FEniCS Form Compiler) es quien se encarga de esta compilaci\u00f3n"
     ]
    },
    {
     "cell_type": "markdown",
     "metadata": {
      "slideshow": {
       "slide_type": "subslide"
      }
     },
     "source": [
      "## FFC\n",
      "\n",
      "* FFC toma la forma variacional expresada en UFL\n",
      "* **FIAT** (FInite Element Tabulator) genera los elementos finitos sobre el mallado\n",
      "* **Instant** es una interfaz simplificada para incrustar expresiones C++ en Python que se compilan con SWIG"
     ]
    },
    {
     "cell_type": "markdown",
     "metadata": {
      "slideshow": {
       "slide_type": "slide"
      }
     },
     "source": [
      "# 3. Instalaci\u00f3n\n",
      "\n",
      "* Los desarrolladores proporcionan binarios actualizados para Debian/Ubuntu y OS X"
     ]
    },
    {
     "cell_type": "markdown",
     "metadata": {
      "slideshow": {
       "slide_type": "fragment"
      }
     },
     "source": [
      "\n",
      "* Si tienes otro sistema..."
     ]
    },
    {
     "cell_type": "markdown",
     "metadata": {
      "slideshow": {
       "slide_type": "fragment"
      }
     },
     "source": [
      "![Date por jodido](Jackie-Chan-Meme-Template.jpg)"
     ]
    },
    {
     "cell_type": "markdown",
     "metadata": {
      "slideshow": {
       "slide_type": "subslide"
      }
     },
     "source": [
      "Tras buscar en Google, aparecen algunas opciones que no conducen a ninguna parte.\n",
      "\n",
      "* <del>Dorsal</del> ya no est\u00e1 soportado: no funcionar\u00e1 en todos los sistemas ni con versiones nuevas\n",
      "* **fenics-install.sh**: nuevo script basado en Hashdist, de creaci\u00f3n muy reciente\n",
      "\n",
      "`curl -s http://fenicsproject.org/fenics-install.sh | bash`\n",
      "\n",
      "* Compilar todos los paquetes a mano: **que tengas suerte**"
     ]
    },
    {
     "cell_type": "markdown",
     "metadata": {
      "slideshow": {
       "slide_type": "fragment"
      }
     },
     "source": [
      "* Posible soluci\u00f3n: **Anaconda**"
     ]
    },
    {
     "cell_type": "markdown",
     "metadata": {
      "slideshow": {
       "slide_type": "subslide"
      }
     },
     "source": [
      "## Instalaci\u00f3n con conda\n",
      "\n",
      "He creado un **paquete conda** con la mayor\u00eda de las dependencias para que FEniCS sea lo m\u00e1s f\u00e1cil de instalar posible:\n",
      "\n",
      "https://github.com/Juanlu001/fenics-recipes"
     ]
    },
    {
     "cell_type": "markdown",
     "metadata": {
      "slideshow": {
       "slide_type": "fragment"
      }
     },
     "source": [
      "```\n",
      "$ bash\n",
      "$ conda create -n fenics27 python=2.7\n",
      "$ source activate fenics27\n",
      "(fenics27) $ conda install fenics mkl --channel juanlu001\n",
      "```\n",
      "\n",
      "Estos comandos instalan binarios precompilados, enlazados con MKL de Intel"
     ]
    },
    {
     "cell_type": "markdown",
     "metadata": {
      "slideshow": {
       "slide_type": "subslide"
      }
     },
     "source": [
      "## Compilaci\u00f3n con conda-build\n",
      "\n",
      "Adem\u00e1s, conda funciona como un build system:"
     ]
    },
    {
     "cell_type": "markdown",
     "metadata": {
      "slideshow": {
       "slide_type": "fragment"
      }
     },
     "source": [
      "```\n",
      "$ conda install conda-build\n",
      "$ conda build boost eigen3 petsc petsc4py instant ufl fiat ffc dolfin fenics --python 27\n",
      "$ conda install fenics mkl --use-local\n",
      "```"
     ]
    },
    {
     "cell_type": "markdown",
     "metadata": {
      "slideshow": {
       "slide_type": "slide"
      }
     },
     "source": [
      "<center>Suficiente rollo, \u00a1vamos a meternos en harina!</center>"
     ]
    },
    {
     "cell_type": "markdown",
     "metadata": {
      "slideshow": {
       "slide_type": "slide"
      }
     },
     "source": [
      "# 4. Ejemplo b\u00e1sico"
     ]
    },
    {
     "cell_type": "markdown",
     "metadata": {
      "slideshow": {
       "slide_type": "fragment"
      }
     },
     "source": [
      "Resolver **la ecuaci\u00f3n de Poisson**\n",
      "\n",
      "$$ -\\nabla^2 u = f \\quad u \\in \\Omega,$$"
     ]
    },
    {
     "cell_type": "markdown",
     "metadata": {
      "slideshow": {
       "slide_type": "fragment"
      }
     },
     "source": [
      "en el dominio $\\Omega = [0, 1] \\times [0, 1] \\in \\mathbb{R}^2$, siendo $f = 100\\exp(-((x - 0.5)^2 + (y - 0.5)^2) / 0.02)$ el t\u00e9rmino forzante"
     ]
    },
    {
     "cell_type": "markdown",
     "metadata": {
      "slideshow": {
       "slide_type": "fragment"
      }
     },
     "source": [
      "y sometida a la condici\u00f3n de contorno $u = \\sin{\\left(2 \\pi x^2\\right)}$ en $\\partial\\Omega$."
     ]
    },
    {
     "cell_type": "markdown",
     "metadata": {
      "slideshow": {
       "slide_type": "subslide"
      }
     },
     "source": [
      "## Calentando motores"
     ]
    },
    {
     "cell_type": "code",
     "collapsed": false,
     "input": [
      "from fenics import *\n",
      "#from dolfin import *"
     ],
     "language": "python",
     "metadata": {
      "slideshow": {
       "slide_type": "fragment"
      }
     },
     "outputs": [],
     "prompt_number": 10
    },
    {
     "cell_type": "markdown",
     "metadata": {
      "slideshow": {
       "slide_type": "subslide"
      }
     },
     "source": [
      "## Dominio y mallado\n",
      "\n",
      "* En FEniCS tenemos varias funciones para crear dominios sencillos\n",
      "* En nuestro caso, queremos `UnitSquareMesh`\n",
      "* Tenemos que especificar el n\u00famero de elementos de la partici\u00f3n"
     ]
    },
    {
     "cell_type": "code",
     "collapsed": false,
     "input": [
      "mesh = UnitSquareMesh(8, 6)\n",
      "mesh"
     ],
     "language": "python",
     "metadata": {
      "slideshow": {
       "slide_type": "fragment"
      }
     },
     "outputs": [
      {
       "metadata": {},
       "output_type": "pyout",
       "prompt_number": 2,
       "svg": [
        "\n",
        "    <svg xmlns=\"http://www.w3.org/2000/svg\" version=\"1.1\" width=\"840\" height=\"840\">\n",
        "    <line x1=\"20\" y1=\"820\" x2=\"120\" y2=\"820\" style=\"fill:none; stroke:black; stroke-width:\"2\" />\n",
        "<line x1=\"20\" y1=\"820\" x2=\"20\" y2=\"686\" style=\"fill:none; stroke:black; stroke-width:\"2\" />\n",
        "<line x1=\"20\" y1=\"820\" x2=\"120\" y2=\"686\" style=\"fill:none; stroke:black; stroke-width:\"2\" />\n",
        "<line x1=\"120\" y1=\"820\" x2=\"220\" y2=\"820\" style=\"fill:none; stroke:black; stroke-width:\"2\" />\n",
        "<line x1=\"120\" y1=\"820\" x2=\"120\" y2=\"686\" style=\"fill:none; stroke:black; stroke-width:\"2\" />\n",
        "<line x1=\"120\" y1=\"820\" x2=\"220\" y2=\"686\" style=\"fill:none; stroke:black; stroke-width:\"2\" />\n",
        "<line x1=\"220\" y1=\"820\" x2=\"320\" y2=\"820\" style=\"fill:none; stroke:black; stroke-width:\"2\" />\n",
        "<line x1=\"220\" y1=\"820\" x2=\"220\" y2=\"686\" style=\"fill:none; stroke:black; stroke-width:\"2\" />\n",
        "<line x1=\"220\" y1=\"820\" x2=\"320\" y2=\"686\" style=\"fill:none; stroke:black; stroke-width:\"2\" />\n",
        "<line x1=\"320\" y1=\"820\" x2=\"420\" y2=\"820\" style=\"fill:none; stroke:black; stroke-width:\"2\" />\n",
        "<line x1=\"320\" y1=\"820\" x2=\"320\" y2=\"686\" style=\"fill:none; stroke:black; stroke-width:\"2\" />\n",
        "<line x1=\"320\" y1=\"820\" x2=\"420\" y2=\"686\" style=\"fill:none; stroke:black; stroke-width:\"2\" />\n",
        "<line x1=\"420\" y1=\"820\" x2=\"520\" y2=\"820\" style=\"fill:none; stroke:black; stroke-width:\"2\" />\n",
        "<line x1=\"420\" y1=\"820\" x2=\"420\" y2=\"686\" style=\"fill:none; stroke:black; stroke-width:\"2\" />\n",
        "<line x1=\"420\" y1=\"820\" x2=\"520\" y2=\"686\" style=\"fill:none; stroke:black; stroke-width:\"2\" />\n",
        "<line x1=\"520\" y1=\"820\" x2=\"620\" y2=\"820\" style=\"fill:none; stroke:black; stroke-width:\"2\" />\n",
        "<line x1=\"520\" y1=\"820\" x2=\"520\" y2=\"686\" style=\"fill:none; stroke:black; stroke-width:\"2\" />\n",
        "<line x1=\"520\" y1=\"820\" x2=\"620\" y2=\"686\" style=\"fill:none; stroke:black; stroke-width:\"2\" />\n",
        "<line x1=\"620\" y1=\"820\" x2=\"720\" y2=\"820\" style=\"fill:none; stroke:black; stroke-width:\"2\" />\n",
        "<line x1=\"620\" y1=\"820\" x2=\"620\" y2=\"686\" style=\"fill:none; stroke:black; stroke-width:\"2\" />\n",
        "<line x1=\"620\" y1=\"820\" x2=\"720\" y2=\"686\" style=\"fill:none; stroke:black; stroke-width:\"2\" />\n",
        "<line x1=\"720\" y1=\"820\" x2=\"820\" y2=\"820\" style=\"fill:none; stroke:black; stroke-width:\"2\" />\n",
        "<line x1=\"720\" y1=\"820\" x2=\"720\" y2=\"686\" style=\"fill:none; stroke:black; stroke-width:\"2\" />\n",
        "<line x1=\"720\" y1=\"820\" x2=\"820\" y2=\"686\" style=\"fill:none; stroke:black; stroke-width:\"2\" />\n",
        "<line x1=\"820\" y1=\"820\" x2=\"820\" y2=\"686\" style=\"fill:none; stroke:black; stroke-width:\"2\" />\n",
        "<line x1=\"20\" y1=\"686\" x2=\"120\" y2=\"686\" style=\"fill:none; stroke:black; stroke-width:\"2\" />\n",
        "<line x1=\"20\" y1=\"686\" x2=\"20\" y2=\"553\" style=\"fill:none; stroke:black; stroke-width:\"2\" />\n",
        "<line x1=\"20\" y1=\"686\" x2=\"120\" y2=\"553\" style=\"fill:none; stroke:black; stroke-width:\"2\" />\n",
        "<line x1=\"120\" y1=\"686\" x2=\"220\" y2=\"686\" style=\"fill:none; stroke:black; stroke-width:\"2\" />\n",
        "<line x1=\"120\" y1=\"686\" x2=\"120\" y2=\"553\" style=\"fill:none; stroke:black; stroke-width:\"2\" />\n",
        "<line x1=\"120\" y1=\"686\" x2=\"220\" y2=\"553\" style=\"fill:none; stroke:black; stroke-width:\"2\" />\n",
        "<line x1=\"220\" y1=\"686\" x2=\"320\" y2=\"686\" style=\"fill:none; stroke:black; stroke-width:\"2\" />\n",
        "<line x1=\"220\" y1=\"686\" x2=\"220\" y2=\"553\" style=\"fill:none; stroke:black; stroke-width:\"2\" />\n",
        "<line x1=\"220\" y1=\"686\" x2=\"320\" y2=\"553\" style=\"fill:none; stroke:black; stroke-width:\"2\" />\n",
        "<line x1=\"320\" y1=\"686\" x2=\"420\" y2=\"686\" style=\"fill:none; stroke:black; stroke-width:\"2\" />\n",
        "<line x1=\"320\" y1=\"686\" x2=\"320\" y2=\"553\" style=\"fill:none; stroke:black; stroke-width:\"2\" />\n",
        "<line x1=\"320\" y1=\"686\" x2=\"420\" y2=\"553\" style=\"fill:none; stroke:black; stroke-width:\"2\" />\n",
        "<line x1=\"420\" y1=\"686\" x2=\"520\" y2=\"686\" style=\"fill:none; stroke:black; stroke-width:\"2\" />\n",
        "<line x1=\"420\" y1=\"686\" x2=\"420\" y2=\"553\" style=\"fill:none; stroke:black; stroke-width:\"2\" />\n",
        "<line x1=\"420\" y1=\"686\" x2=\"520\" y2=\"553\" style=\"fill:none; stroke:black; stroke-width:\"2\" />\n",
        "<line x1=\"520\" y1=\"686\" x2=\"620\" y2=\"686\" style=\"fill:none; stroke:black; stroke-width:\"2\" />\n",
        "<line x1=\"520\" y1=\"686\" x2=\"520\" y2=\"553\" style=\"fill:none; stroke:black; stroke-width:\"2\" />\n",
        "<line x1=\"520\" y1=\"686\" x2=\"620\" y2=\"553\" style=\"fill:none; stroke:black; stroke-width:\"2\" />\n",
        "<line x1=\"620\" y1=\"686\" x2=\"720\" y2=\"686\" style=\"fill:none; stroke:black; stroke-width:\"2\" />\n",
        "<line x1=\"620\" y1=\"686\" x2=\"620\" y2=\"553\" style=\"fill:none; stroke:black; stroke-width:\"2\" />\n",
        "<line x1=\"620\" y1=\"686\" x2=\"720\" y2=\"553\" style=\"fill:none; stroke:black; stroke-width:\"2\" />\n",
        "<line x1=\"720\" y1=\"686\" x2=\"820\" y2=\"686\" style=\"fill:none; stroke:black; stroke-width:\"2\" />\n",
        "<line x1=\"720\" y1=\"686\" x2=\"720\" y2=\"553\" style=\"fill:none; stroke:black; stroke-width:\"2\" />\n",
        "<line x1=\"720\" y1=\"686\" x2=\"820\" y2=\"553\" style=\"fill:none; stroke:black; stroke-width:\"2\" />\n",
        "<line x1=\"820\" y1=\"686\" x2=\"820\" y2=\"553\" style=\"fill:none; stroke:black; stroke-width:\"2\" />\n",
        "<line x1=\"20\" y1=\"553\" x2=\"120\" y2=\"553\" style=\"fill:none; stroke:black; stroke-width:\"2\" />\n",
        "<line x1=\"20\" y1=\"553\" x2=\"20\" y2=\"420\" style=\"fill:none; stroke:black; stroke-width:\"2\" />\n",
        "<line x1=\"20\" y1=\"553\" x2=\"120\" y2=\"420\" style=\"fill:none; stroke:black; stroke-width:\"2\" />\n",
        "<line x1=\"120\" y1=\"553\" x2=\"220\" y2=\"553\" style=\"fill:none; stroke:black; stroke-width:\"2\" />\n",
        "<line x1=\"120\" y1=\"553\" x2=\"120\" y2=\"420\" style=\"fill:none; stroke:black; stroke-width:\"2\" />\n",
        "<line x1=\"120\" y1=\"553\" x2=\"220\" y2=\"420\" style=\"fill:none; stroke:black; stroke-width:\"2\" />\n",
        "<line x1=\"220\" y1=\"553\" x2=\"320\" y2=\"553\" style=\"fill:none; stroke:black; stroke-width:\"2\" />\n",
        "<line x1=\"220\" y1=\"553\" x2=\"220\" y2=\"420\" style=\"fill:none; stroke:black; stroke-width:\"2\" />\n",
        "<line x1=\"220\" y1=\"553\" x2=\"320\" y2=\"420\" style=\"fill:none; stroke:black; stroke-width:\"2\" />\n",
        "<line x1=\"320\" y1=\"553\" x2=\"420\" y2=\"553\" style=\"fill:none; stroke:black; stroke-width:\"2\" />\n",
        "<line x1=\"320\" y1=\"553\" x2=\"320\" y2=\"420\" style=\"fill:none; stroke:black; stroke-width:\"2\" />\n",
        "<line x1=\"320\" y1=\"553\" x2=\"420\" y2=\"420\" style=\"fill:none; stroke:black; stroke-width:\"2\" />\n",
        "<line x1=\"420\" y1=\"553\" x2=\"520\" y2=\"553\" style=\"fill:none; stroke:black; stroke-width:\"2\" />\n",
        "<line x1=\"420\" y1=\"553\" x2=\"420\" y2=\"420\" style=\"fill:none; stroke:black; stroke-width:\"2\" />\n",
        "<line x1=\"420\" y1=\"553\" x2=\"520\" y2=\"420\" style=\"fill:none; stroke:black; stroke-width:\"2\" />\n",
        "<line x1=\"520\" y1=\"553\" x2=\"620\" y2=\"553\" style=\"fill:none; stroke:black; stroke-width:\"2\" />\n",
        "<line x1=\"520\" y1=\"553\" x2=\"520\" y2=\"420\" style=\"fill:none; stroke:black; stroke-width:\"2\" />\n",
        "<line x1=\"520\" y1=\"553\" x2=\"620\" y2=\"420\" style=\"fill:none; stroke:black; stroke-width:\"2\" />\n",
        "<line x1=\"620\" y1=\"553\" x2=\"720\" y2=\"553\" style=\"fill:none; stroke:black; stroke-width:\"2\" />\n",
        "<line x1=\"620\" y1=\"553\" x2=\"620\" y2=\"420\" style=\"fill:none; stroke:black; stroke-width:\"2\" />\n",
        "<line x1=\"620\" y1=\"553\" x2=\"720\" y2=\"420\" style=\"fill:none; stroke:black; stroke-width:\"2\" />\n",
        "<line x1=\"720\" y1=\"553\" x2=\"820\" y2=\"553\" style=\"fill:none; stroke:black; stroke-width:\"2\" />\n",
        "<line x1=\"720\" y1=\"553\" x2=\"720\" y2=\"420\" style=\"fill:none; stroke:black; stroke-width:\"2\" />\n",
        "<line x1=\"720\" y1=\"553\" x2=\"820\" y2=\"420\" style=\"fill:none; stroke:black; stroke-width:\"2\" />\n",
        "<line x1=\"820\" y1=\"553\" x2=\"820\" y2=\"420\" style=\"fill:none; stroke:black; stroke-width:\"2\" />\n",
        "<line x1=\"20\" y1=\"420\" x2=\"120\" y2=\"420\" style=\"fill:none; stroke:black; stroke-width:\"2\" />\n",
        "<line x1=\"20\" y1=\"420\" x2=\"20\" y2=\"286\" style=\"fill:none; stroke:black; stroke-width:\"2\" />\n",
        "<line x1=\"20\" y1=\"420\" x2=\"120\" y2=\"286\" style=\"fill:none; stroke:black; stroke-width:\"2\" />\n",
        "<line x1=\"120\" y1=\"420\" x2=\"220\" y2=\"420\" style=\"fill:none; stroke:black; stroke-width:\"2\" />\n",
        "<line x1=\"120\" y1=\"420\" x2=\"120\" y2=\"286\" style=\"fill:none; stroke:black; stroke-width:\"2\" />\n",
        "<line x1=\"120\" y1=\"420\" x2=\"220\" y2=\"286\" style=\"fill:none; stroke:black; stroke-width:\"2\" />\n",
        "<line x1=\"220\" y1=\"420\" x2=\"320\" y2=\"420\" style=\"fill:none; stroke:black; stroke-width:\"2\" />\n",
        "<line x1=\"220\" y1=\"420\" x2=\"220\" y2=\"286\" style=\"fill:none; stroke:black; stroke-width:\"2\" />\n",
        "<line x1=\"220\" y1=\"420\" x2=\"320\" y2=\"286\" style=\"fill:none; stroke:black; stroke-width:\"2\" />\n",
        "<line x1=\"320\" y1=\"420\" x2=\"420\" y2=\"420\" style=\"fill:none; stroke:black; stroke-width:\"2\" />\n",
        "<line x1=\"320\" y1=\"420\" x2=\"320\" y2=\"286\" style=\"fill:none; stroke:black; stroke-width:\"2\" />\n",
        "<line x1=\"320\" y1=\"420\" x2=\"420\" y2=\"286\" style=\"fill:none; stroke:black; stroke-width:\"2\" />\n",
        "<line x1=\"420\" y1=\"420\" x2=\"520\" y2=\"420\" style=\"fill:none; stroke:black; stroke-width:\"2\" />\n",
        "<line x1=\"420\" y1=\"420\" x2=\"420\" y2=\"286\" style=\"fill:none; stroke:black; stroke-width:\"2\" />\n",
        "<line x1=\"420\" y1=\"420\" x2=\"520\" y2=\"286\" style=\"fill:none; stroke:black; stroke-width:\"2\" />\n",
        "<line x1=\"520\" y1=\"420\" x2=\"620\" y2=\"420\" style=\"fill:none; stroke:black; stroke-width:\"2\" />\n",
        "<line x1=\"520\" y1=\"420\" x2=\"520\" y2=\"286\" style=\"fill:none; stroke:black; stroke-width:\"2\" />\n",
        "<line x1=\"520\" y1=\"420\" x2=\"620\" y2=\"286\" style=\"fill:none; stroke:black; stroke-width:\"2\" />\n",
        "<line x1=\"620\" y1=\"420\" x2=\"720\" y2=\"420\" style=\"fill:none; stroke:black; stroke-width:\"2\" />\n",
        "<line x1=\"620\" y1=\"420\" x2=\"620\" y2=\"286\" style=\"fill:none; stroke:black; stroke-width:\"2\" />\n",
        "<line x1=\"620\" y1=\"420\" x2=\"720\" y2=\"286\" style=\"fill:none; stroke:black; stroke-width:\"2\" />\n",
        "<line x1=\"720\" y1=\"420\" x2=\"820\" y2=\"420\" style=\"fill:none; stroke:black; stroke-width:\"2\" />\n",
        "<line x1=\"720\" y1=\"420\" x2=\"720\" y2=\"286\" style=\"fill:none; stroke:black; stroke-width:\"2\" />\n",
        "<line x1=\"720\" y1=\"420\" x2=\"820\" y2=\"286\" style=\"fill:none; stroke:black; stroke-width:\"2\" />\n",
        "<line x1=\"820\" y1=\"420\" x2=\"820\" y2=\"286\" style=\"fill:none; stroke:black; stroke-width:\"2\" />\n",
        "<line x1=\"20\" y1=\"286\" x2=\"120\" y2=\"286\" style=\"fill:none; stroke:black; stroke-width:\"2\" />\n",
        "<line x1=\"20\" y1=\"286\" x2=\"20\" y2=\"153\" style=\"fill:none; stroke:black; stroke-width:\"2\" />\n",
        "<line x1=\"20\" y1=\"286\" x2=\"120\" y2=\"153\" style=\"fill:none; stroke:black; stroke-width:\"2\" />\n",
        "<line x1=\"120\" y1=\"286\" x2=\"220\" y2=\"286\" style=\"fill:none; stroke:black; stroke-width:\"2\" />\n",
        "<line x1=\"120\" y1=\"286\" x2=\"120\" y2=\"153\" style=\"fill:none; stroke:black; stroke-width:\"2\" />\n",
        "<line x1=\"120\" y1=\"286\" x2=\"220\" y2=\"153\" style=\"fill:none; stroke:black; stroke-width:\"2\" />\n",
        "<line x1=\"220\" y1=\"286\" x2=\"320\" y2=\"286\" style=\"fill:none; stroke:black; stroke-width:\"2\" />\n",
        "<line x1=\"220\" y1=\"286\" x2=\"220\" y2=\"153\" style=\"fill:none; stroke:black; stroke-width:\"2\" />\n",
        "<line x1=\"220\" y1=\"286\" x2=\"320\" y2=\"153\" style=\"fill:none; stroke:black; stroke-width:\"2\" />\n",
        "<line x1=\"320\" y1=\"286\" x2=\"420\" y2=\"286\" style=\"fill:none; stroke:black; stroke-width:\"2\" />\n",
        "<line x1=\"320\" y1=\"286\" x2=\"320\" y2=\"153\" style=\"fill:none; stroke:black; stroke-width:\"2\" />\n",
        "<line x1=\"320\" y1=\"286\" x2=\"420\" y2=\"153\" style=\"fill:none; stroke:black; stroke-width:\"2\" />\n",
        "<line x1=\"420\" y1=\"286\" x2=\"520\" y2=\"286\" style=\"fill:none; stroke:black; stroke-width:\"2\" />\n",
        "<line x1=\"420\" y1=\"286\" x2=\"420\" y2=\"153\" style=\"fill:none; stroke:black; stroke-width:\"2\" />\n",
        "<line x1=\"420\" y1=\"286\" x2=\"520\" y2=\"153\" style=\"fill:none; stroke:black; stroke-width:\"2\" />\n",
        "<line x1=\"520\" y1=\"286\" x2=\"620\" y2=\"286\" style=\"fill:none; stroke:black; stroke-width:\"2\" />\n",
        "<line x1=\"520\" y1=\"286\" x2=\"520\" y2=\"153\" style=\"fill:none; stroke:black; stroke-width:\"2\" />\n",
        "<line x1=\"520\" y1=\"286\" x2=\"620\" y2=\"153\" style=\"fill:none; stroke:black; stroke-width:\"2\" />\n",
        "<line x1=\"620\" y1=\"286\" x2=\"720\" y2=\"286\" style=\"fill:none; stroke:black; stroke-width:\"2\" />\n",
        "<line x1=\"620\" y1=\"286\" x2=\"620\" y2=\"153\" style=\"fill:none; stroke:black; stroke-width:\"2\" />\n",
        "<line x1=\"620\" y1=\"286\" x2=\"720\" y2=\"153\" style=\"fill:none; stroke:black; stroke-width:\"2\" />\n",
        "<line x1=\"720\" y1=\"286\" x2=\"820\" y2=\"286\" style=\"fill:none; stroke:black; stroke-width:\"2\" />\n",
        "<line x1=\"720\" y1=\"286\" x2=\"720\" y2=\"153\" style=\"fill:none; stroke:black; stroke-width:\"2\" />\n",
        "<line x1=\"720\" y1=\"286\" x2=\"820\" y2=\"153\" style=\"fill:none; stroke:black; stroke-width:\"2\" />\n",
        "<line x1=\"820\" y1=\"286\" x2=\"820\" y2=\"153\" style=\"fill:none; stroke:black; stroke-width:\"2\" />\n",
        "<line x1=\"20\" y1=\"153\" x2=\"120\" y2=\"153\" style=\"fill:none; stroke:black; stroke-width:\"2\" />\n",
        "<line x1=\"20\" y1=\"153\" x2=\"20\" y2=\"20\" style=\"fill:none; stroke:black; stroke-width:\"2\" />\n",
        "<line x1=\"20\" y1=\"153\" x2=\"120\" y2=\"20\" style=\"fill:none; stroke:black; stroke-width:\"2\" />\n",
        "<line x1=\"120\" y1=\"153\" x2=\"220\" y2=\"153\" style=\"fill:none; stroke:black; stroke-width:\"2\" />\n",
        "<line x1=\"120\" y1=\"153\" x2=\"120\" y2=\"20\" style=\"fill:none; stroke:black; stroke-width:\"2\" />\n",
        "<line x1=\"120\" y1=\"153\" x2=\"220\" y2=\"20\" style=\"fill:none; stroke:black; stroke-width:\"2\" />\n",
        "<line x1=\"220\" y1=\"153\" x2=\"320\" y2=\"153\" style=\"fill:none; stroke:black; stroke-width:\"2\" />\n",
        "<line x1=\"220\" y1=\"153\" x2=\"220\" y2=\"20\" style=\"fill:none; stroke:black; stroke-width:\"2\" />\n",
        "<line x1=\"220\" y1=\"153\" x2=\"320\" y2=\"20\" style=\"fill:none; stroke:black; stroke-width:\"2\" />\n",
        "<line x1=\"320\" y1=\"153\" x2=\"420\" y2=\"153\" style=\"fill:none; stroke:black; stroke-width:\"2\" />\n",
        "<line x1=\"320\" y1=\"153\" x2=\"320\" y2=\"20\" style=\"fill:none; stroke:black; stroke-width:\"2\" />\n",
        "<line x1=\"320\" y1=\"153\" x2=\"420\" y2=\"20\" style=\"fill:none; stroke:black; stroke-width:\"2\" />\n",
        "<line x1=\"420\" y1=\"153\" x2=\"520\" y2=\"153\" style=\"fill:none; stroke:black; stroke-width:\"2\" />\n",
        "<line x1=\"420\" y1=\"153\" x2=\"420\" y2=\"20\" style=\"fill:none; stroke:black; stroke-width:\"2\" />\n",
        "<line x1=\"420\" y1=\"153\" x2=\"520\" y2=\"20\" style=\"fill:none; stroke:black; stroke-width:\"2\" />\n",
        "<line x1=\"520\" y1=\"153\" x2=\"620\" y2=\"153\" style=\"fill:none; stroke:black; stroke-width:\"2\" />\n",
        "<line x1=\"520\" y1=\"153\" x2=\"520\" y2=\"20\" style=\"fill:none; stroke:black; stroke-width:\"2\" />\n",
        "<line x1=\"520\" y1=\"153\" x2=\"620\" y2=\"20\" style=\"fill:none; stroke:black; stroke-width:\"2\" />\n",
        "<line x1=\"620\" y1=\"153\" x2=\"720\" y2=\"153\" style=\"fill:none; stroke:black; stroke-width:\"2\" />\n",
        "<line x1=\"620\" y1=\"153\" x2=\"620\" y2=\"20\" style=\"fill:none; stroke:black; stroke-width:\"2\" />\n",
        "<line x1=\"620\" y1=\"153\" x2=\"720\" y2=\"20\" style=\"fill:none; stroke:black; stroke-width:\"2\" />\n",
        "<line x1=\"720\" y1=\"153\" x2=\"820\" y2=\"153\" style=\"fill:none; stroke:black; stroke-width:\"2\" />\n",
        "<line x1=\"720\" y1=\"153\" x2=\"720\" y2=\"20\" style=\"fill:none; stroke:black; stroke-width:\"2\" />\n",
        "<line x1=\"720\" y1=\"153\" x2=\"820\" y2=\"20\" style=\"fill:none; stroke:black; stroke-width:\"2\" />\n",
        "<line x1=\"820\" y1=\"153\" x2=\"820\" y2=\"20\" style=\"fill:none; stroke:black; stroke-width:\"2\" />\n",
        "<line x1=\"20\" y1=\"20\" x2=\"120\" y2=\"20\" style=\"fill:none; stroke:black; stroke-width:\"2\" />\n",
        "<line x1=\"120\" y1=\"20\" x2=\"220\" y2=\"20\" style=\"fill:none; stroke:black; stroke-width:\"2\" />\n",
        "<line x1=\"220\" y1=\"20\" x2=\"320\" y2=\"20\" style=\"fill:none; stroke:black; stroke-width:\"2\" />\n",
        "<line x1=\"320\" y1=\"20\" x2=\"420\" y2=\"20\" style=\"fill:none; stroke:black; stroke-width:\"2\" />\n",
        "<line x1=\"420\" y1=\"20\" x2=\"520\" y2=\"20\" style=\"fill:none; stroke:black; stroke-width:\"2\" />\n",
        "<line x1=\"520\" y1=\"20\" x2=\"620\" y2=\"20\" style=\"fill:none; stroke:black; stroke-width:\"2\" />\n",
        "<line x1=\"620\" y1=\"20\" x2=\"720\" y2=\"20\" style=\"fill:none; stroke:black; stroke-width:\"2\" />\n",
        "<line x1=\"720\" y1=\"20\" x2=\"820\" y2=\"20\" style=\"fill:none; stroke:black; stroke-width:\"2\" />\n",
        "    <circle cx=\"20\" cy=\"820\" r=\"2\" stroke=\"black\" stroke-width=\"0\" fill=\"red\" />\n",
        "<circle cx=\"120\" cy=\"820\" r=\"2\" stroke=\"black\" stroke-width=\"0\" fill=\"red\" />\n",
        "<circle cx=\"220\" cy=\"820\" r=\"2\" stroke=\"black\" stroke-width=\"0\" fill=\"red\" />\n",
        "<circle cx=\"320\" cy=\"820\" r=\"2\" stroke=\"black\" stroke-width=\"0\" fill=\"red\" />\n",
        "<circle cx=\"420\" cy=\"820\" r=\"2\" stroke=\"black\" stroke-width=\"0\" fill=\"red\" />\n",
        "<circle cx=\"520\" cy=\"820\" r=\"2\" stroke=\"black\" stroke-width=\"0\" fill=\"red\" />\n",
        "<circle cx=\"620\" cy=\"820\" r=\"2\" stroke=\"black\" stroke-width=\"0\" fill=\"red\" />\n",
        "<circle cx=\"720\" cy=\"820\" r=\"2\" stroke=\"black\" stroke-width=\"0\" fill=\"red\" />\n",
        "<circle cx=\"820\" cy=\"820\" r=\"2\" stroke=\"black\" stroke-width=\"0\" fill=\"red\" />\n",
        "<circle cx=\"20\" cy=\"686\" r=\"2\" stroke=\"black\" stroke-width=\"0\" fill=\"red\" />\n",
        "<circle cx=\"120\" cy=\"686\" r=\"2\" stroke=\"black\" stroke-width=\"0\" fill=\"red\" />\n",
        "<circle cx=\"220\" cy=\"686\" r=\"2\" stroke=\"black\" stroke-width=\"0\" fill=\"red\" />\n",
        "<circle cx=\"320\" cy=\"686\" r=\"2\" stroke=\"black\" stroke-width=\"0\" fill=\"red\" />\n",
        "<circle cx=\"420\" cy=\"686\" r=\"2\" stroke=\"black\" stroke-width=\"0\" fill=\"red\" />\n",
        "<circle cx=\"520\" cy=\"686\" r=\"2\" stroke=\"black\" stroke-width=\"0\" fill=\"red\" />\n",
        "<circle cx=\"620\" cy=\"686\" r=\"2\" stroke=\"black\" stroke-width=\"0\" fill=\"red\" />\n",
        "<circle cx=\"720\" cy=\"686\" r=\"2\" stroke=\"black\" stroke-width=\"0\" fill=\"red\" />\n",
        "<circle cx=\"820\" cy=\"686\" r=\"2\" stroke=\"black\" stroke-width=\"0\" fill=\"red\" />\n",
        "<circle cx=\"20\" cy=\"553\" r=\"2\" stroke=\"black\" stroke-width=\"0\" fill=\"red\" />\n",
        "<circle cx=\"120\" cy=\"553\" r=\"2\" stroke=\"black\" stroke-width=\"0\" fill=\"red\" />\n",
        "<circle cx=\"220\" cy=\"553\" r=\"2\" stroke=\"black\" stroke-width=\"0\" fill=\"red\" />\n",
        "<circle cx=\"320\" cy=\"553\" r=\"2\" stroke=\"black\" stroke-width=\"0\" fill=\"red\" />\n",
        "<circle cx=\"420\" cy=\"553\" r=\"2\" stroke=\"black\" stroke-width=\"0\" fill=\"red\" />\n",
        "<circle cx=\"520\" cy=\"553\" r=\"2\" stroke=\"black\" stroke-width=\"0\" fill=\"red\" />\n",
        "<circle cx=\"620\" cy=\"553\" r=\"2\" stroke=\"black\" stroke-width=\"0\" fill=\"red\" />\n",
        "<circle cx=\"720\" cy=\"553\" r=\"2\" stroke=\"black\" stroke-width=\"0\" fill=\"red\" />\n",
        "<circle cx=\"820\" cy=\"553\" r=\"2\" stroke=\"black\" stroke-width=\"0\" fill=\"red\" />\n",
        "<circle cx=\"20\" cy=\"420\" r=\"2\" stroke=\"black\" stroke-width=\"0\" fill=\"red\" />\n",
        "<circle cx=\"120\" cy=\"420\" r=\"2\" stroke=\"black\" stroke-width=\"0\" fill=\"red\" />\n",
        "<circle cx=\"220\" cy=\"420\" r=\"2\" stroke=\"black\" stroke-width=\"0\" fill=\"red\" />\n",
        "<circle cx=\"320\" cy=\"420\" r=\"2\" stroke=\"black\" stroke-width=\"0\" fill=\"red\" />\n",
        "<circle cx=\"420\" cy=\"420\" r=\"2\" stroke=\"black\" stroke-width=\"0\" fill=\"red\" />\n",
        "<circle cx=\"520\" cy=\"420\" r=\"2\" stroke=\"black\" stroke-width=\"0\" fill=\"red\" />\n",
        "<circle cx=\"620\" cy=\"420\" r=\"2\" stroke=\"black\" stroke-width=\"0\" fill=\"red\" />\n",
        "<circle cx=\"720\" cy=\"420\" r=\"2\" stroke=\"black\" stroke-width=\"0\" fill=\"red\" />\n",
        "<circle cx=\"820\" cy=\"420\" r=\"2\" stroke=\"black\" stroke-width=\"0\" fill=\"red\" />\n",
        "<circle cx=\"20\" cy=\"286\" r=\"2\" stroke=\"black\" stroke-width=\"0\" fill=\"red\" />\n",
        "<circle cx=\"120\" cy=\"286\" r=\"2\" stroke=\"black\" stroke-width=\"0\" fill=\"red\" />\n",
        "<circle cx=\"220\" cy=\"286\" r=\"2\" stroke=\"black\" stroke-width=\"0\" fill=\"red\" />\n",
        "<circle cx=\"320\" cy=\"286\" r=\"2\" stroke=\"black\" stroke-width=\"0\" fill=\"red\" />\n",
        "<circle cx=\"420\" cy=\"286\" r=\"2\" stroke=\"black\" stroke-width=\"0\" fill=\"red\" />\n",
        "<circle cx=\"520\" cy=\"286\" r=\"2\" stroke=\"black\" stroke-width=\"0\" fill=\"red\" />\n",
        "<circle cx=\"620\" cy=\"286\" r=\"2\" stroke=\"black\" stroke-width=\"0\" fill=\"red\" />\n",
        "<circle cx=\"720\" cy=\"286\" r=\"2\" stroke=\"black\" stroke-width=\"0\" fill=\"red\" />\n",
        "<circle cx=\"820\" cy=\"286\" r=\"2\" stroke=\"black\" stroke-width=\"0\" fill=\"red\" />\n",
        "<circle cx=\"20\" cy=\"153\" r=\"2\" stroke=\"black\" stroke-width=\"0\" fill=\"red\" />\n",
        "<circle cx=\"120\" cy=\"153\" r=\"2\" stroke=\"black\" stroke-width=\"0\" fill=\"red\" />\n",
        "<circle cx=\"220\" cy=\"153\" r=\"2\" stroke=\"black\" stroke-width=\"0\" fill=\"red\" />\n",
        "<circle cx=\"320\" cy=\"153\" r=\"2\" stroke=\"black\" stroke-width=\"0\" fill=\"red\" />\n",
        "<circle cx=\"420\" cy=\"153\" r=\"2\" stroke=\"black\" stroke-width=\"0\" fill=\"red\" />\n",
        "<circle cx=\"520\" cy=\"153\" r=\"2\" stroke=\"black\" stroke-width=\"0\" fill=\"red\" />\n",
        "<circle cx=\"620\" cy=\"153\" r=\"2\" stroke=\"black\" stroke-width=\"0\" fill=\"red\" />\n",
        "<circle cx=\"720\" cy=\"153\" r=\"2\" stroke=\"black\" stroke-width=\"0\" fill=\"red\" />\n",
        "<circle cx=\"820\" cy=\"153\" r=\"2\" stroke=\"black\" stroke-width=\"0\" fill=\"red\" />\n",
        "<circle cx=\"20\" cy=\"20\" r=\"2\" stroke=\"black\" stroke-width=\"0\" fill=\"red\" />\n",
        "<circle cx=\"120\" cy=\"20\" r=\"2\" stroke=\"black\" stroke-width=\"0\" fill=\"red\" />\n",
        "<circle cx=\"220\" cy=\"20\" r=\"2\" stroke=\"black\" stroke-width=\"0\" fill=\"red\" />\n",
        "<circle cx=\"320\" cy=\"20\" r=\"2\" stroke=\"black\" stroke-width=\"0\" fill=\"red\" />\n",
        "<circle cx=\"420\" cy=\"20\" r=\"2\" stroke=\"black\" stroke-width=\"0\" fill=\"red\" />\n",
        "<circle cx=\"520\" cy=\"20\" r=\"2\" stroke=\"black\" stroke-width=\"0\" fill=\"red\" />\n",
        "<circle cx=\"620\" cy=\"20\" r=\"2\" stroke=\"black\" stroke-width=\"0\" fill=\"red\" />\n",
        "<circle cx=\"720\" cy=\"20\" r=\"2\" stroke=\"black\" stroke-width=\"0\" fill=\"red\" />\n",
        "<circle cx=\"820\" cy=\"20\" r=\"2\" stroke=\"black\" stroke-width=\"0\" fill=\"red\" />\n",
        "    </svg>\n",
        "    "
       ],
       "text": [
        "<dolfin.cpp.mesh.UnitSquareMesh; proxy of <Swig Object of type 'std::shared_ptr< dolfin::UnitSquareMesh > *' at 0x7f7b3c08e720> >"
       ]
      }
     ],
     "prompt_number": 2
    },
    {
     "cell_type": "markdown",
     "metadata": {
      "slideshow": {
       "slide_type": "subslide"
      }
     },
     "source": [
      "## Espacios de funciones\n",
      "\n",
      "* En FEM, las soluciones a las ecuaciones se buscan en **espacios de Sobolev**\n",
      "* Su elecci\u00f3n es importante: condiciona el error de la soluci\u00f3n\n",
      "* En FEniCS hay soporte completo para varios:\n",
      "\n",
      "![Elementos](elements.png)"
     ]
    },
    {
     "cell_type": "code",
     "collapsed": false,
     "input": [
      "supported_elements"
     ],
     "language": "python",
     "metadata": {
      "slideshow": {
       "slide_type": "-"
      }
     },
     "outputs": [
      {
       "metadata": {},
       "output_type": "pyout",
       "prompt_number": 3,
       "text": [
        "['Brezzi-Douglas-Fortin-Marini',\n",
        " 'Brezzi-Douglas-Marini',\n",
        " 'Crouzeix-Raviart',\n",
        " 'Discontinuous Lagrange',\n",
        " 'Discontinuous Raviart-Thomas',\n",
        " 'Lagrange',\n",
        " 'Nedelec 1st kind H(curl)',\n",
        " 'Nedelec 2nd kind H(curl)',\n",
        " 'Raviart-Thomas']"
       ]
      }
     ],
     "prompt_number": 3
    },
    {
     "cell_type": "markdown",
     "metadata": {
      "slideshow": {
       "slide_type": "subslide"
      }
     },
     "source": [
      "Para nuestro problema concreto, vamos a utilizar los cl\u00e1sicos **elementos polin\u00f3micos de Lagrange de orden 1**:"
     ]
    },
    {
     "cell_type": "code",
     "collapsed": false,
     "input": [
      "V = FunctionSpace(mesh, 'Lagrange', 1)\n",
      "\n",
      "u = TrialFunction(V)\n",
      "v = TestFunction(V)"
     ],
     "language": "python",
     "metadata": {
      "slideshow": {
       "slide_type": "fragment"
      }
     },
     "outputs": [
      {
       "output_type": "stream",
       "stream": "stderr",
       "text": [
        "DEBUG:FFC:Reusing form from cache.\n"
       ]
      }
     ],
     "prompt_number": 4
    },
    {
     "cell_type": "markdown",
     "metadata": {
      "slideshow": {
       "slide_type": "subslide"
      }
     },
     "source": [
      "## Condiciones de contorno\n",
      "\n",
      "* De dos tipos: **naturales** y **esenciales**\n",
      "* Tenemos que definir sobre qu\u00e9 contorno las aplicamos\n",
      "* Las primeras se crean usando `DirichletBC`:"
     ]
    },
    {
     "cell_type": "code",
     "collapsed": false,
     "input": [
      "def boundary(x, on_boundary):\n",
      "    \"\"\"El par\u00e1metro on_boundary es verdadero si el punto est\u00e1\n",
      "    sobre el contorno. Podr\u00edamos hacer otro tipo de comprobaciones,\n",
      "    pero en este caso basta con devolver este mismo valor.\n",
      "\n",
      "    \"\"\"\n",
      "    return on_boundary\n",
      "\n",
      "u0 = Expression('sin(2 * pi * x[0] * x[0])')\n",
      "bc = DirichletBC(V, u0, boundary)"
     ],
     "language": "python",
     "metadata": {
      "slideshow": {
       "slide_type": "fragment"
      }
     },
     "outputs": [],
     "prompt_number": 5
    },
    {
     "cell_type": "markdown",
     "metadata": {
      "slideshow": {
       "slide_type": "subslide"
      }
     },
     "source": [
      "## Formulaci\u00f3n variacional\n",
      "\n",
      "* Reescribir la ecuaci\u00f3n en forma d\u00e9bil es el paso m\u00e1s importante\n",
      "* Buscamos expresiones de este tipo:\n",
      "\n",
      "$$a(u, v) = L(v)$$\n",
      "\n",
      "* Gracias a UFL, la traducci\u00f3n es directa\n",
      "\n",
      "En nuestro caso:"
     ]
    },
    {
     "cell_type": "markdown",
     "metadata": {
      "slideshow": {
       "slide_type": "fragment"
      }
     },
     "source": [
      "$$-\\nabla^2 u = f$$"
     ]
    },
    {
     "cell_type": "markdown",
     "metadata": {
      "slideshow": {
       "slide_type": "fragment"
      }
     },
     "source": [
      "$$\\begin{align}\n",
      "-\\int_\\Omega (\\nabla^2 u) v dx & = \\int_\\Omega \\nabla u \\cdot \\nabla v dx - \\oint_{\\partial\\Omega} \\frac{\\partial u}{\\partial n} v ds \\\\\n",
      "& = \\int_\\Omega \\nabla u \\cdot \\nabla v dx\n",
      "\\end{align}$$"
     ]
    },
    {
     "cell_type": "markdown",
     "metadata": {
      "slideshow": {
       "slide_type": "fragment"
      }
     },
     "source": [
      "$$\\boxed{\\displaystyle \\int_\\Omega \\nabla u \\cdot \\nabla v dx = \\int_\\Omega f v dx}$$"
     ]
    },
    {
     "cell_type": "markdown",
     "metadata": {
      "slideshow": {
       "slide_type": "subslide"
      }
     },
     "source": [
      "Y ahora, la escribimos en Python:"
     ]
    },
    {
     "cell_type": "code",
     "collapsed": false,
     "input": [
      "f = Expression(\"100 * exp(-(pow(x[0] - 0.5, 2) + pow(x[1] - 0.5, 2)) / 0.02)\")\n",
      "a = inner(nabla_grad(u), nabla_grad(v)) * dx  # Miembro izquierdo\n",
      "L = f * v * dx"
     ],
     "language": "python",
     "metadata": {
      "slideshow": {
       "slide_type": "fragment"
      }
     },
     "outputs": [],
     "prompt_number": 6
    },
    {
     "cell_type": "markdown",
     "metadata": {
      "slideshow": {
       "slide_type": "subslide"
      }
     },
     "source": [
      "### Resolvemos el sistema\n",
      "\n",
      "* FEniCS tiene interfaces a multitud de solvers\n",
      "* Necesitamos una funci\u00f3n sobre la que escribir la soluci\u00f3n\n",
      "* En el caso m\u00e1s sencillo, llamamos simplemente a la funci\u00f3n `solve`:"
     ]
    },
    {
     "cell_type": "code",
     "collapsed": false,
     "input": [
      "u = Function(V)\n",
      "solve(a == L, u, bc)\n",
      "\n",
      "print max(abs(u.vector().array()))  # Array de valores num\u00e9ricos"
     ],
     "language": "python",
     "metadata": {
      "slideshow": {
       "slide_type": "fragment"
      }
     },
     "outputs": [
      {
       "output_type": "stream",
       "stream": "stderr",
       "text": [
        "DEBUG:FFC:Reusing form from cache.\n"
       ]
      },
      {
       "output_type": "stream",
       "stream": "stderr",
       "text": [
        "DEBUG:FFC:Reusing form from cache.\n"
       ]
      },
      {
       "output_type": "stream",
       "stream": "stdout",
       "text": [
        "1.68671201474\n"
       ]
      }
     ],
     "prompt_number": 7
    },
    {
     "cell_type": "markdown",
     "metadata": {
      "slideshow": {
       "slide_type": "subslide"
      }
     },
     "source": [
      "## Los colorines"
     ]
    },
    {
     "cell_type": "code",
     "collapsed": false,
     "input": [
      "fig = plot(u, interactive=False)\n",
      "fig.write_png(\"poisson\")"
     ],
     "language": "python",
     "metadata": {
      "slideshow": {
       "slide_type": "fragment"
      }
     },
     "outputs": [],
     "prompt_number": 8
    },
    {
     "cell_type": "code",
     "collapsed": false,
     "input": [
      "from IPython.display import Image\n",
      "Image(\"poisson.png\")"
     ],
     "language": "python",
     "metadata": {
      "slideshow": {
       "slide_type": "subslide"
      }
     },
     "outputs": [
      {
       "metadata": {},
       "output_type": "pyout",
       "png": "[encoded data removed]",
       "prompt_number": 9,
       "text": [
        "<IPython.core.display.Image at 0x7f7b3bb786d0>"
       ]
      }
     ],
     "prompt_number": 9
    },
    {
     "cell_type": "markdown",
     "metadata": {
      "slideshow": {
       "slide_type": "slide"
      }
     },
     "source": [
      "# 5. Problemas m\u00e1s complejos"
     ]
    },
    {
     "cell_type": "markdown",
     "metadata": {
      "slideshow": {
       "slide_type": "fragment"
      }
     },
     "source": [
      "* La formulaci\u00f3n variacional puede ser bastante complicada\\*\n",
      "\n",
      "$$ \\begin{split}\\sum_{K \\in \\mathcal{T}} \\int_{K} \\nabla^{2} u \\nabla^{2} v \\, dx \\\n",
      "- \\int_{\\Gamma} \\left<\\nabla^{2} u \\right>  [\\!\\![ \\nabla v ]\\!\\!] \\, ds\n",
      "- \\int_{\\Gamma}[\\!\\![  \\nabla u ]\\!\\!]  \\left<\\nabla^{2} v \\right>  \\, ds\n",
      "+ \\int_{\\Gamma} \\frac{\\alpha}{h}[\\!\\![ \\nabla u ]\\!\\!]  [\\!\\![ \\nabla v ]\\!\\!]  \\, ds\n",
      "= \\int_{\\Omega} vf \\, dx \\quad \\forall \\ v \\in V\\end{split} $$\n",
      "\n",
      "\\*<small>[Formulaci\u00f3n con funciones *penalty* para la ecuaci\u00f3n biharm\u00f3nica](http://fenicsproject.org/documentation/dolfin/1.5.0/python/demo/documented/biharmonic/python/documentation.html)</small>"
     ]
    },
    {
     "cell_type": "markdown",
     "metadata": {
      "slideshow": {
       "slide_type": "fragment"
      }
     },
     "source": [
      "* Para formulaciones mixtas, se pueden crear espacios de funciones combinando varios"
     ]
    },
    {
     "cell_type": "markdown",
     "metadata": {
      "slideshow": {
       "slide_type": "fragment"
      }
     },
     "source": [
      "* Se puede trocear el dominio y aplicar condiciones naturales y esenciales"
     ]
    },
    {
     "cell_type": "markdown",
     "metadata": {
      "slideshow": {
       "slide_type": "fragment"
      }
     },
     "source": [
      "* A veces es necesario especificar los par\u00e1metros del *solver* para mejorar el proceso de la soluci\u00f3n"
     ]
    },
    {
     "cell_type": "markdown",
     "metadata": {
      "slideshow": {
       "slide_type": "fragment"
      }
     },
     "source": [
      "* Para geometr\u00edas m\u00e1s complicadas hay que acudir a programas externos, comom **Gmsh**"
     ]
    },
    {
     "cell_type": "markdown",
     "metadata": {
      "slideshow": {
       "slide_type": "slide"
      }
     },
     "source": [
      "# 6. Recursos y alternativas\n",
      "\n",
      "* Introducci\u00f3n en Pybonacci: http://pybonacci.org/2015/01/20/fenics-resolucion-de-ecuaciones-diferenciales-en-python/\n",
      "* Libro de FEniCS: http://fenicsproject.org/book/\n",
      "* FEniCS Q&A: http://fenicsproject.org/qa/"
     ]
    },
    {
     "cell_type": "markdown",
     "metadata": {
      "slideshow": {
       "slide_type": "subslide"
      }
     },
     "source": [
      "Existen otras soluciones para resolver ecuaciones diferenciales con Python:\n",
      "\n",
      "* **SfePy**, tambi\u00e9n por elementos finitos, enfoque m\u00e1s estructural\n",
      "* **FiPy**, vol\u00famenes finitos\n",
      "* **Clawpack**, vol\u00famenes finitos orientado a ecuaciones hiperb\u00f3licas"
     ]
    },
    {
     "cell_type": "markdown",
     "metadata": {
      "slideshow": {
       "slide_type": "slide"
      }
     },
     "source": [
      "# Conclusiones\n",
      "\n",
      "* FEniCS es un proyecto muy ambicioso y sus bibliotecas muy potentes\n",
      "* Instalarlo ya no es un problema ;)\n",
      "* La dificultad est\u00e1 en la parte matem\u00e1tica\n",
      "* Libro un poco desactualizado, por lo dem\u00e1s muy detallado\n",
      "* \u00a1Esto es solo la punta del iceberg!"
     ]
    },
    {
     "cell_type": "markdown",
     "metadata": {
      "slideshow": {
       "slide_type": "subslide"
      }
     },
     "source": [
      "<center><h2>Muchas gracias :)</h2></center>"
     ]
    },
    {
     "cell_type": "markdown",
     "metadata": {
      "slideshow": {
       "slide_type": "slide"
      }
     },
     "source": [
      "# Q & A\n",
      "\n",
      "<table style=\"border: 0\">\n",
      "<tr style=\"border: 0\">\n",
      "<td style=\"border: 0\">\n",
      "![PyLadies](pyladies_square.png)\n",
      "</td>\n",
      "<td style=\"border: 0\">\n",
      "![Pybonacci](pybofractal.png)\n",
      "</td>\n",
      "</tr>\n",
      "</table>"
     ]
    }
   ],
   "metadata": {}
  }
 ]
}